{
  "cells": [
    {
      "cell_type": "code",
      "execution_count": null,
      "metadata": {
        "colab": {
          "base_uri": "https://localhost:8080/"
        },
        "id": "vg5M2YK-DN0q",
        "outputId": "46e7ff48-d367-479d-868d-5872ee531cd6"
      },
      "outputs": [
        {
          "name": "stdout",
          "output_type": "stream",
          "text": [
            "Collecting sdv\n",
            "  Downloading sdv-1.24.1-py3-none-any.whl.metadata (14 kB)\n",
            "Requirement already satisfied: pandas in /opt/anaconda3/lib/python3.12/site-packages (2.2.2)\n",
            "Collecting boto3<2.0.0,>=1.28 (from sdv)\n",
            "  Downloading boto3-1.40.1-py3-none-any.whl.metadata (6.7 kB)\n",
            "Requirement already satisfied: botocore<2.0.0,>=1.31 in /opt/anaconda3/lib/python3.12/site-packages (from sdv) (1.34.69)\n",
            "Requirement already satisfied: cloudpickle>=2.1.0 in /opt/anaconda3/lib/python3.12/site-packages (from sdv) (3.0.0)\n",
            "Collecting graphviz>=0.13.2 (from sdv)\n",
            "  Downloading graphviz-0.21-py3-none-any.whl.metadata (12 kB)\n",
            "Requirement already satisfied: numpy>=1.26.0 in /opt/anaconda3/lib/python3.12/site-packages (from sdv) (1.26.4)\n",
            "Requirement already satisfied: tqdm>=4.29 in /opt/anaconda3/lib/python3.12/site-packages (from sdv) (4.66.5)\n",
            "Collecting copulas>=0.12.1 (from sdv)\n",
            "  Downloading copulas-0.12.3-py3-none-any.whl.metadata (9.5 kB)\n",
            "Collecting ctgan>=0.11.0 (from sdv)\n",
            "  Downloading ctgan-0.11.0-py3-none-any.whl.metadata (10 kB)\n",
            "Collecting deepecho>=0.7.0 (from sdv)\n",
            "  Downloading deepecho-0.7.0-py3-none-any.whl.metadata (10 kB)\n",
            "Collecting rdt>=1.17.0 (from sdv)\n",
            "  Downloading rdt-1.17.1-py3-none-any.whl.metadata (10 kB)\n",
            "Collecting sdmetrics>=0.21.0 (from sdv)\n",
            "  Downloading sdmetrics-0.22.0-py3-none-any.whl.metadata (9.4 kB)\n",
            "Collecting platformdirs>=4.0 (from sdv)\n",
            "  Downloading platformdirs-4.3.8-py3-none-any.whl.metadata (12 kB)\n",
            "Requirement already satisfied: pyyaml>=6.0.1 in /opt/anaconda3/lib/python3.12/site-packages (from sdv) (6.0.1)\n",
            "Requirement already satisfied: python-dateutil>=2.8.2 in /opt/anaconda3/lib/python3.12/site-packages (from pandas) (2.9.0.post0)\n",
            "Requirement already satisfied: pytz>=2020.1 in /opt/anaconda3/lib/python3.12/site-packages (from pandas) (2024.1)\n",
            "Requirement already satisfied: tzdata>=2022.7 in /opt/anaconda3/lib/python3.12/site-packages (from pandas) (2023.3)\n",
            "Collecting botocore<2.0.0,>=1.31 (from sdv)\n",
            "  Downloading botocore-1.40.1-py3-none-any.whl.metadata (5.7 kB)\n",
            "Requirement already satisfied: jmespath<2.0.0,>=0.7.1 in /opt/anaconda3/lib/python3.12/site-packages (from boto3<2.0.0,>=1.28->sdv) (1.0.1)\n",
            "Collecting s3transfer<0.14.0,>=0.13.0 (from boto3<2.0.0,>=1.28->sdv)\n",
            "  Downloading s3transfer-0.13.1-py3-none-any.whl.metadata (1.7 kB)\n",
            "Requirement already satisfied: urllib3!=2.2.0,<3,>=1.25.4 in /opt/anaconda3/lib/python3.12/site-packages (from botocore<2.0.0,>=1.31->sdv) (2.2.3)\n",
            "Requirement already satisfied: plotly>=5.10.0 in /opt/anaconda3/lib/python3.12/site-packages (from copulas>=0.12.1->sdv) (5.24.1)\n",
            "Requirement already satisfied: scipy>=1.12.0 in /opt/anaconda3/lib/python3.12/site-packages (from copulas>=0.12.1->sdv) (1.13.1)\n",
            "Collecting torch>=2.2.0 (from ctgan>=0.11.0->sdv)\n",
            "  Downloading torch-2.7.1-cp312-none-macosx_11_0_arm64.whl.metadata (29 kB)\n",
            "Requirement already satisfied: six>=1.5 in /opt/anaconda3/lib/python3.12/site-packages (from python-dateutil>=2.8.2->pandas) (1.16.0)\n",
            "Requirement already satisfied: scikit-learn>=1.3.1 in /opt/anaconda3/lib/python3.12/site-packages (from rdt>=1.17.0->sdv) (1.5.1)\n",
            "Collecting Faker>=17 (from rdt>=1.17.0->sdv)\n",
            "  Downloading faker-37.5.3-py3-none-any.whl.metadata (15 kB)\n",
            "Requirement already satisfied: tenacity>=6.2.0 in /opt/anaconda3/lib/python3.12/site-packages (from plotly>=5.10.0->copulas>=0.12.1->sdv) (8.2.3)\n",
            "Requirement already satisfied: packaging in /opt/anaconda3/lib/python3.12/site-packages (from plotly>=5.10.0->copulas>=0.12.1->sdv) (24.1)\n",
            "Requirement already satisfied: joblib>=1.2.0 in /opt/anaconda3/lib/python3.12/site-packages (from scikit-learn>=1.3.1->rdt>=1.17.0->sdv) (1.4.2)\n",
            "Requirement already satisfied: threadpoolctl>=3.1.0 in /opt/anaconda3/lib/python3.12/site-packages (from scikit-learn>=1.3.1->rdt>=1.17.0->sdv) (3.5.0)\n",
            "Requirement already satisfied: filelock in /opt/anaconda3/lib/python3.12/site-packages (from torch>=2.2.0->ctgan>=0.11.0->sdv) (3.13.1)\n",
            "Requirement already satisfied: typing-extensions>=4.10.0 in /opt/anaconda3/lib/python3.12/site-packages (from torch>=2.2.0->ctgan>=0.11.0->sdv) (4.11.0)\n",
            "Requirement already satisfied: setuptools in /opt/anaconda3/lib/python3.12/site-packages (from torch>=2.2.0->ctgan>=0.11.0->sdv) (75.1.0)\n",
            "Collecting sympy>=1.13.3 (from torch>=2.2.0->ctgan>=0.11.0->sdv)\n",
            "  Downloading sympy-1.14.0-py3-none-any.whl.metadata (12 kB)\n",
            "Requirement already satisfied: networkx in /opt/anaconda3/lib/python3.12/site-packages (from torch>=2.2.0->ctgan>=0.11.0->sdv) (3.3)\n",
            "Requirement already satisfied: jinja2 in /opt/anaconda3/lib/python3.12/site-packages (from torch>=2.2.0->ctgan>=0.11.0->sdv) (3.1.4)\n",
            "Requirement already satisfied: fsspec in /opt/anaconda3/lib/python3.12/site-packages (from torch>=2.2.0->ctgan>=0.11.0->sdv) (2024.6.1)\n",
            "Requirement already satisfied: mpmath<1.4,>=1.1.0 in /opt/anaconda3/lib/python3.12/site-packages (from sympy>=1.13.3->torch>=2.2.0->ctgan>=0.11.0->sdv) (1.3.0)\n",
            "Requirement already satisfied: MarkupSafe>=2.0 in /opt/anaconda3/lib/python3.12/site-packages (from jinja2->torch>=2.2.0->ctgan>=0.11.0->sdv) (2.1.3)\n",
            "Downloading sdv-1.24.1-py3-none-any.whl (183 kB)\n",
            "Downloading boto3-1.40.1-py3-none-any.whl (139 kB)\n",
            "Downloading botocore-1.40.1-py3-none-any.whl (13.9 MB)\n",
            "\u001b[2K   \u001b[90m━━━━━━━━━━━━━━━━━━━━━━━━━━━━━━━━━━━━━━━━\u001b[0m \u001b[32m13.9/13.9 MB\u001b[0m \u001b[31m21.0 MB/s\u001b[0m eta \u001b[36m0:00:00\u001b[0ma \u001b[36m0:00:01\u001b[0m\n",
            "\u001b[?25hDownloading copulas-0.12.3-py3-none-any.whl (52 kB)\n",
            "Downloading ctgan-0.11.0-py3-none-any.whl (24 kB)\n",
            "Downloading deepecho-0.7.0-py3-none-any.whl (27 kB)\n",
            "Downloading graphviz-0.21-py3-none-any.whl (47 kB)\n",
            "Downloading platformdirs-4.3.8-py3-none-any.whl (18 kB)\n",
            "Downloading rdt-1.17.1-py3-none-any.whl (73 kB)\n",
            "Downloading sdmetrics-0.22.0-py3-none-any.whl (198 kB)\n",
            "Downloading faker-37.5.3-py3-none-any.whl (1.9 MB)\n",
            "\u001b[2K   \u001b[90m━━━━━━━━━━━━━━━━━━━━━━━━━━━━━━━━━━━━━━━━\u001b[0m \u001b[32m1.9/1.9 MB\u001b[0m \u001b[31m14.0 MB/s\u001b[0m eta \u001b[36m0:00:00\u001b[0m\n",
            "\u001b[?25hDownloading s3transfer-0.13.1-py3-none-any.whl (85 kB)\n",
            "Downloading torch-2.7.1-cp312-none-macosx_11_0_arm64.whl (68.6 MB)\n",
            "\u001b[2K   \u001b[90m━━━━━━━━━━━━━━━━━━━━━━━━━━━━━━━━━━━━━━━━\u001b[0m \u001b[32m68.6/68.6 MB\u001b[0m \u001b[31m40.2 MB/s\u001b[0m eta \u001b[36m0:00:00\u001b[0m00:01\u001b[0m00:01\u001b[0m\n",
            "\u001b[?25hDownloading sympy-1.14.0-py3-none-any.whl (6.3 MB)\n",
            "\u001b[2K   \u001b[90m━━━━━━━━━━━━━━━━━━━━━━━━━━━━━━━━━━━━━━━━\u001b[0m \u001b[32m6.3/6.3 MB\u001b[0m \u001b[31m37.0 MB/s\u001b[0m eta \u001b[36m0:00:00\u001b[0m\n",
            "\u001b[?25hInstalling collected packages: sympy, platformdirs, graphviz, Faker, torch, botocore, s3transfer, rdt, deepecho, copulas, sdmetrics, ctgan, boto3, sdv\n",
            "  Attempting uninstall: sympy\n",
            "    Found existing installation: sympy 1.13.2\n",
            "    Uninstalling sympy-1.13.2:\n",
            "      Successfully uninstalled sympy-1.13.2\n",
            "  Attempting uninstall: platformdirs\n",
            "    Found existing installation: platformdirs 3.10.0\n",
            "    Uninstalling platformdirs-3.10.0:\n",
            "      Successfully uninstalled platformdirs-3.10.0\n",
            "  Attempting uninstall: botocore\n",
            "    Found existing installation: botocore 1.34.69\n",
            "    Uninstalling botocore-1.34.69:\n",
            "      Successfully uninstalled botocore-1.34.69\n",
            "\u001b[31mERROR: pip's dependency resolver does not currently take into account all the packages that are installed. This behaviour is the source of the following dependency conflicts.\n",
            "aiobotocore 2.12.3 requires botocore<1.34.70,>=1.34.41, but you have botocore 1.40.1 which is incompatible.\u001b[0m\u001b[31m\n",
            "\u001b[0mSuccessfully installed Faker-37.5.3 boto3-1.40.1 botocore-1.40.1 copulas-0.12.3 ctgan-0.11.0 deepecho-0.7.0 graphviz-0.21 platformdirs-4.3.8 rdt-1.17.1 s3transfer-0.13.1 sdmetrics-0.22.0 sdv-1.24.1 sympy-1.14.0 torch-2.7.1\n",
            "Note: you may need to restart the kernel to use updated packages.\n"
          ]
        },
        {
          "ename": "",
          "evalue": "",
          "output_type": "error",
          "traceback": [
            "\u001b[1;31mThe Kernel crashed while executing code in the current cell or a previous cell. \n",
            "\u001b[1;31mPlease review the code in the cell(s) to identify a possible cause of the failure. \n",
            "\u001b[1;31mClick <a href='https://aka.ms/vscodeJupyterKernelCrash'>here</a> for more info. \n",
            "\u001b[1;31mView Jupyter <a href='command:jupyter.viewOutput'>log</a> for further details."
          ]
        }
      ],
      "source": [
        "pip install sdv pandas"
      ]
    },
    {
      "cell_type": "code",
      "execution_count": null,
      "metadata": {
        "colab": {
          "base_uri": "https://localhost:8080/"
        },
        "id": "nfbGJMrMCsF_",
        "outputId": "5bccd516-c492-4416-a7d6-496bca70d325"
      },
      "outputs": [
        {
          "name": "stdout",
          "output_type": "stream",
          "text": [
            "📊 Cleaned Titanic Dataset Shape: (712, 10)\n",
            "🧩 Discrete Columns: ['survived', 'sex', 'embarked']\n"
          ]
        }
      ],
      "source": [
        "import seaborn as sns\n",
        "import pandas as pd\n",
        "from ctgan import CTGAN\n",
        "import pickle\n",
        "from sklearn.model_selection import train_test_split\n",
        "from sklearn.ensemble import RandomForestClassifier\n",
        "from sklearn.metrics import classification_report\n",
        "\n",
        "# Load Titanic dataset\n",
        "df = sns.load_dataset('titanic')\n",
        "\n",
        "# Drop irrelevant or high-missing columns\n",
        "df = df.drop(columns=['deck', 'embark_town', 'alive', 'class', 'who'])\n",
        "\n",
        "# Drop rows with missing values\n",
        "df = df.dropna()\n",
        "\n",
        "# Convert target to binary\n",
        "df['survived'] = df['survived'].astype('category')\n",
        "\n",
        "# Identify discrete (categorical) columns\n",
        "discrete_columns = df.select_dtypes(include=['object', 'category']).columns.tolist()\n",
        "\n",
        "# Print preprocessed info\n",
        "print(\"📊 Cleaned Titanic Dataset Shape:\", df.shape)\n",
        "print(\"🧩 Discrete Columns:\", discrete_columns)\n",
        "\n",
        "# Train CTGAN model\n",
        "ctgan = CTGAN(epochs=100)\n",
        "ctgan.fit(df, discrete_columns=discrete_columns)\n",
        "\n",
        "# Save CTGAN model\n",
        "with open(\"ctgan_titanic_model.pkl\", \"wb\") as f:\n",
        "    pickle.dump(ctgan, f)\n",
        "print(\"✅ CTGAN model saved as 'ctgan_titanic_model.pkl'\")\n",
        "\n",
        "# Generate synthetic data\n",
        "synthetic_data = ctgan.sample(len(df))\n",
        "\n",
        "# Encode both datasets for ML\n",
        "real_encoded = pd.get_dummies(df, drop_first=True)\n",
        "synthetic_encoded = pd.get_dummies(synthetic_data, drop_first=True)\n",
        "\n",
        "# Align both encoded dataframes\n",
        "real_encoded, synthetic_encoded = real_encoded.align(synthetic_encoded, join='inner', axis=1)\n",
        "\n",
        "# Split into features and label\n",
        "X_real = real_encoded.drop('survived_1', axis=1)\n",
        "y_real = real_encoded['survived_1']\n",
        "\n",
        "X_synth = synthetic_encoded.drop('survived_1', axis=1)\n",
        "y_synth = synthetic_encoded['survived_1']\n",
        "\n",
        "# Train classifier on synthetic data, test on real data\n",
        "clf = RandomForestClassifier()\n",
        "clf.fit(X_synth, y_synth)\n",
        "y_pred = clf.predict(X_real)\n",
        "\n",
        "# Evaluation\n",
        "print(\"\\n🎯 Evaluation on Real Data (trained on synthetic data):\\n\")\n",
        "print(classification_report(y_real, y_pred))\n"
      ]
    },
    {
      "cell_type": "code",
      "execution_count": null,
      "metadata": {
        "colab": {
          "base_uri": "https://localhost:8080/"
        },
        "id": "OvWn1M0kE6zl",
        "outputId": "66c81e8b-be89-487c-b839-a0a0370fb423"
      },
      "outputs": [
        {
          "name": "stdout",
          "output_type": "stream",
          "text": [
            "🧪 Synthetic Titanic Data:\n",
            "    survived  pclass     sex        age  sibsp  parch        fare embarked  \\\n",
            "0          1       1    male  16.031350      1      2   21.592631        S   \n",
            "1          0       2  female  13.741602      0      1   -2.302188        Q   \n",
            "2          0       2    male  22.798399      1      0   99.394238        S   \n",
            "3          0       3    male  11.235020      1      0   25.030481        S   \n",
            "4          1       2  female   7.190223      1      1   21.340302        S   \n",
            "..       ...     ...     ...        ...    ...    ...         ...      ...   \n",
            "495        0       2    male  17.519042      1      2   15.143950        S   \n",
            "496        0       1  female   8.046962      1      1    6.965926        S   \n",
            "497        0       2    male  13.977467      0      1  236.560399        C   \n",
            "498        0       3    male  21.370587      0      1   72.526781        C   \n",
            "499        1       2    male  20.598925      3      1   84.969059        S   \n",
            "\n",
            "     adult_male  alone  \n",
            "0          True   True  \n",
            "1          True   True  \n",
            "2          True   True  \n",
            "3          True   True  \n",
            "4          True   True  \n",
            "..          ...    ...  \n",
            "495        True   True  \n",
            "496        True   True  \n",
            "497        True   True  \n",
            "498        True   True  \n",
            "499        True   True  \n",
            "\n",
            "[500 rows x 10 columns]\n",
            "✅ Synthetic data saved to 'synthetic_titanic_data.csv'\n"
          ]
        }
      ],
      "source": [
        "import pickle\n",
        "\n",
        "# Load the saved CTGAN model\n",
        "with open(\"ctgan_titanic_model.pkl\", \"rb\") as f:\n",
        "    ctgan = pickle.load(f)\n",
        "\n",
        "# Generate synthetic data (e.g., 500 rows)\n",
        "synthetic_data = ctgan.sample(500)\n",
        "\n",
        "# Display the synthetic data\n",
        "print(\"🧪 Synthetic Titanic Data:\")\n",
        "print(synthetic_data)\n",
        "\n",
        "# save to CSV\n",
        "synthetic_data.to_csv(\"synthetic_titanic_data.csv\", index=False)\n",
        "print(\"✅ Synthetic data saved to 'synthetic_titanic_data.csv'\")\n"
      ]
    }
  ],
  "metadata": {
    "accelerator": "GPU",
    "colab": {
      "gpuType": "T4",
      "provenance": []
    },
    "kernelspec": {
      "display_name": "base",
      "language": "python",
      "name": "python3"
    },
    "language_info": {
      "codemirror_mode": {
        "name": "ipython",
        "version": 3
      },
      "file_extension": ".py",
      "mimetype": "text/x-python",
      "name": "python",
      "nbconvert_exporter": "python",
      "pygments_lexer": "ipython3",
      "version": "3.12.7"
    }
  },
  "nbformat": 4,
  "nbformat_minor": 0
}
